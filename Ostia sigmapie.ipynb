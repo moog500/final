{
 "cells": [
  {
   "cell_type": "code",
   "execution_count": 1,
   "metadata": {
    "ExecuteTime": {
     "end_time": "2021-03-31T01:27:39.597116Z",
     "start_time": "2021-03-31T01:27:26.253941Z"
    }
   },
   "outputs": [
    {
     "name": "stdout",
     "output_type": "stream",
     "text": [
      "Collecting sigmapie\n",
      "  Downloading SigmaPie-0.5.tar.gz (48 kB)\n",
      "Building wheels for collected packages: sigmapie\n",
      "  Building wheel for sigmapie (setup.py): started\n",
      "  Building wheel for sigmapie (setup.py): finished with status 'done'\n",
      "  Created wheel for sigmapie: filename=SigmaPie-0.5-py3-none-any.whl size=35786 sha256=0b13ffedda85bc439070a18ca92e118685c210d8219d67145d945272cec8e4b6\n",
      "  Stored in directory: c:\\users\\moog500\\appdata\\local\\pip\\cache\\wheels\\b4\\bc\\c3\\44844f35f407931aea58ec38dd48c8a3e75407d99c52aac9b8\n",
      "Successfully built sigmapie\n",
      "Installing collected packages: sigmapie\n",
      "Successfully installed sigmapie-0.5\n",
      "Note: you may need to restart the kernel to use updated packages.\n"
     ]
    }
   ],
   "source": [
    "pip install sigmapie"
   ]
  },
  {
   "cell_type": "code",
   "execution_count": 9,
   "metadata": {
    "ExecuteTime": {
     "end_time": "2021-03-31T01:27:39.697275Z",
     "start_time": "2021-03-31T01:27:39.602568Z"
    }
   },
   "outputs": [
    {
     "name": "stdout",
     "output_type": "stream",
     "text": [
      "['', 'r', 'rs', 'rS', 'rz', 'R', 'Rs', 'RS']\n",
      "{'': '*', 'r': '*', 'rs': 'tatta', 'rS': 'tatda', 'rz': 'tattda', 'R': '*', 'Rs': 'tadda', 'RS': 'tadta'}\n",
      "[['', 'r', '', 'r'], ['r', 's', '', 'rs'], ['r', 'S', '', 'rS'], ['r', 'z', '', 'rz'], ['', 'R', '', 'R'], ['R', 's', '', 'Rs'], ['R', 'S', '', 'RS']]\n",
      "['r', 'R', 's', 'S', 'z']\n",
      "['t', 'a', 'd']\n"
     ]
    }
   ],
   "source": [
    "from sigmapie.fst_object import *\n",
    "from sigmapie.helper import *\n",
    "\n",
    "fakelang = [(\"rs\",\"tatta\"),(\"rS\",\"tatda\"),(\"rz\",\"tattda\"),(\"Rs\",\"tadda\"),(\"RS\",\"tadta\")]\n",
    "inputalp = [\"r\",\"R\",\"s\",\"S\",\"z\"] #had to change morpheme names because program messes up with two symbols for a single morpheme\n",
    "outputalp = [\"t\",\"a\",\"d\"]\n",
    "G = build_ptt(fakelang,inputalp,outputalp)\n",
    "print(G.Q)\n",
    "print(G.stout)\n",
    "print(G.E)\n",
    "print(G.Sigma)\n",
    "print(G.Gamma)"
   ]
  },
  {
   "cell_type": "code",
   "execution_count": 10,
   "metadata": {
    "ExecuteTime": {
     "end_time": "2021-03-31T01:27:39.727257Z",
     "start_time": "2021-03-31T01:27:39.704649Z"
    }
   },
   "outputs": [
    {
     "name": "stdout",
     "output_type": "stream",
     "text": [
      "[['', 'r', 'tat', 'r'], ['r', 's', 'ta', 'rs'], ['r', 'S', 'da', 'rS'], ['r', 'z', 'tda', 'rz'], ['', 'R', 'tad', 'R'], ['R', 's', 'da', 'Rs'], ['R', 'S', 'ta', 'RS']]\n"
     ]
    }
   ],
   "source": [
    "\n",
    "z = onward_ptt(G,'','') \n",
    "fst = z[0]\n",
    "print(fst.E)"
   ]
  },
  {
   "cell_type": "code",
   "execution_count": 35,
   "metadata": {
    "ExecuteTime": {
     "end_time": "2021-02-04T03:13:56.839674Z",
     "start_time": "2021-02-04T03:13:56.830150Z"
    }
   },
   "outputs": [
    {
     "name": "stdout",
     "output_type": "stream",
     "text": [
      "['z', 'S', 's']\n"
     ]
    }
   ],
   "source": [
    "def suffix(d):\n",
    "    guy = d[::-1]\n",
    "    return prefix(guy)\n",
    "\n",
    "#list of morpheme strings \n",
    "dog = list(item[0] for item in fakelang)\n",
    "#morphemes reversed\n",
    "suffixtuples = []\n",
    "for doggy in dog: \n",
    "    suffixtuples.append(suffix(doggy))\n",
    "suffixset = []\n",
    "for item in suffixtuples:\n",
    "    suffixset.append(item[1])\n",
    "#getting unique value set\n",
    "suffixset = set(suffixset)\n",
    "#very ugly returning it back to list form\n",
    "suffixset = list(suffixset)\n",
    "print(suffixset)\n"
   ]
  },
  {
   "cell_type": "code",
   "execution_count": 46,
   "metadata": {},
   "outputs": [
    {
     "name": "stdout",
     "output_type": "stream",
     "text": [
      "{'z': [['r', 'tda']], 'S': [['r', 'da'], ['R', 'ta']], 's': [['r', 'ta'], ['R', 'da']]}\n",
      "{'z': [['t', 'tda']], 'S': [['t', 'da'], ['d', 'ta']], 's': [['t', 'ta'], ['d', 'da']]}\n"
     ]
    }
   ],
   "source": [
    "morphtoout = {}\n",
    "prefixtoout = {}\n",
    "#environments\n",
    "onesuffixofprefout = {}\n",
    "for item in fst.E: \n",
    "    morphtoout[item[3]] = item[2]\n",
    "for item in morphtoout: \n",
    "    if len(item[0]) == 1: \n",
    "        prefixtoout[item[0]] = morphtoout[item[0]]\n",
    "for item in prefixtoout:\n",
    "    onesuffixofprefout[item[0]] = prefixtoout[item[0]][-1]\n",
    "\n",
    "#set of outputs for a certain suffix with the associated prefix\n",
    "outputs = {}\n",
    "for suffix in suffixset:\n",
    "    temp = []\n",
    "    for item in fst.E: \n",
    "        if suffix in item[3]: \n",
    "            temp.append([item[0],item[2]])\n",
    "    outputs[suffix] = temp\n",
    "print(outputs)\n",
    "\n",
    "#replacing associated prefixes with their output 1-suffixes\n",
    "for item in outputs:\n",
    "    for john in outputs[item]:\n",
    "        temp = john[0]\n",
    "        john[0] = onesuffixofprefout[temp]\n",
    "print(outputs)  \n",
    "\n",
    "\n",
    "        \n",
    "    "
   ]
  },
  {
   "cell_type": "code",
   "execution_count": null,
   "metadata": {},
   "outputs": [],
   "source": [
    "#main omega if body \n",
    "      "
   ]
  }
 ],
 "metadata": {
  "kernelspec": {
   "display_name": "Python 3",
   "language": "python",
   "name": "python3"
  },
  "language_info": {
   "codemirror_mode": {
    "name": "ipython",
    "version": 3
   },
   "file_extension": ".py",
   "mimetype": "text/x-python",
   "name": "python",
   "nbconvert_exporter": "python",
   "pygments_lexer": "ipython3",
   "version": "3.7.6"
  },
  "toc": {
   "base_numbering": 1,
   "nav_menu": {},
   "number_sections": false,
   "sideBar": true,
   "skip_h1_title": false,
   "title_cell": "Table of Contents",
   "title_sidebar": "Contents",
   "toc_cell": false,
   "toc_position": {},
   "toc_section_display": true,
   "toc_window_display": false
  }
 },
 "nbformat": 4,
 "nbformat_minor": 4
}
